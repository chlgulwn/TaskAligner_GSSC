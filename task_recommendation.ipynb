{
 "cells": [
  {
   "cell_type": "code",
   "execution_count": 27,
   "id": "351ca836",
   "metadata": {},
   "outputs": [],
   "source": [
    "import os\n",
    "import logging\n",
    "from pathlib import Path\n",
    "from typing import Optional\n",
    "from openai import OpenAI\n",
    "from dotenv import load_dotenv"
   ]
  },
  {
   "cell_type": "markdown",
   "id": "57096b52",
   "metadata": {},
   "source": [
    "### Meeting Summarization"
   ]
  },
  {
   "cell_type": "code",
   "execution_count": 28,
   "id": "9bab5d0e",
   "metadata": {},
   "outputs": [
    {
     "name": "stdout",
     "output_type": "stream",
     "text": [
      "회의 내용을 입력하세요 (빈 줄 2번 입력 시 종료):\n"
     ]
    },
    {
     "name": "stderr",
     "output_type": "stream",
     "text": [
      "2025-05-07 17:48:56,887 - INFO - HTTP Request: POST https://api.openai.com/v1/chat/completions \"HTTP/1.1 200 OK\"\n"
     ]
    },
    {
     "name": "stdout",
     "output_type": "stream",
     "text": [
      "다음 회의 날짜와 시간: 다음 주 화요일 오전 10시\n",
      "아이템: API 리스크 보험 모델 설계\n",
      "해야 할 일: \n",
      "1. 일일 호출량 기준 1천 건 이상인 API를 '주요 API'로 분류하고, 여기에 장애 빈도와 지속 시간을 결합해서 등급을 나누는 작업 진행\n",
      "2. 보험료 책정 모델 초안 만들기 (호출량, 장애 확률, 지속 시간 3가지를 주요 변수로 넣어서 회귀 분석)\n",
      "3. 실시간 API의 예측 오차를 줄이기 위해 구간별로 나눠서 분포 다시 보기\n",
      "4. 실제 장애 사례를 기반으로 3가지 케이스 만들기 (호출량 급증, 외부 API 장애 전이, 인증 실패 반복)\n",
      "5. 최근 핀테크 쪽 이슈 기반으로 리스크 요소 추가하기\n",
      "팀원들의 의견: \n",
      "1. 중소 규모 API에서는 관련 데이터가 누락되거나 장애 기록이 1년 이상 안 올라온 것이 많다.\n",
      "2. 실시간 API는 트래픽이 예측 불가능하여 예측 오차가 크다.\n",
      "3. 실제 장애 사례를 기반으로 리스크 시나리오를 만드는 것이 좋다.\n",
      "멘토의 피드백: 리스크 시나리오가 너무 일반적이라고 지난번에 지적함. 최근 핀테크 쪽 이슈 기반으로 리스크 요소를 추가할 것을 제안함.\n"
     ]
    }
   ],
   "source": [
    "import os\n",
    "import logging\n",
    "from pathlib import Path\n",
    "from typing import Optional\n",
    "from openai import OpenAI\n",
    "\n",
    "\n",
    "logging.basicConfig(\n",
    "    level=logging.INFO,\n",
    "    format='%(asctime)s - %(levelname)s - %(message)s'\n",
    ")\n",
    "\n",
    "\n",
    "client = OpenAI(api_key=os.environ.get('OPENAI_API_KEY', ''))\n",
    "\n",
    "def build_prompt(meeting_transcript: str) -> str:\n",
    "    try:\n",
    "        template = {\n",
    "            'system_role': \"당신은 회의 전체 내용을 카테고리별로 요약해주는 요약 AI입니다.\",\n",
    "            'output_format': [\n",
    "                \"다음 회의 날짜와 시간: OOO\",\n",
    "                \"아이템: OOO\",\n",
    "                \"해야 할 일: OOO\",\n",
    "                \"팀원들의 의견: OOO\",\n",
    "                \"멘토의 피드백: OOO\"\n",
    "            ]\n",
    "        }\n",
    "\n",
    "        prompt = f\"\"\" {template['system_role']}\n",
    "아래 회의 전체 내용을 다음 형식으로 요약하세요:\n",
    "\n",
    "[출력 예시]\n",
    "{chr(10).join(template['output_format'])}\n",
    "\n",
    "[회의 전체 내용]\n",
    "{meeting_transcript}\n",
    "\n",
    "[정리된 결과] \"\"\"\n",
    "        return prompt\n",
    "\n",
    "    except Exception as e:\n",
    "        logging.error(f\"Failed to build prompt: {str(e)}\")\n",
    "        raise\n",
    "\n",
    "def summarize_meeting(transcript: str):\n",
    "    prompt = build_prompt(transcript)\n",
    "\n",
    "\n",
    "    response = client.chat.completions.create(\n",
    "        model=\"gpt-4\",\n",
    "        messages=[\n",
    "            {\"role\": \"system\", \"content\": \"당신은 회의 전체 내용을 카테고리별로 요약해주는 요약 AI입니다.\"},\n",
    "            {\"role\": \"user\", \"content\": prompt}\n",
    "        ],\n",
    "        temperature=0.3,\n",
    "    )\n",
    "\n",
    "\n",
    "    return response.choices[0].message.content.strip()\n",
    "\n",
    "\n",
    "def get_user_transcript():\n",
    "    print(\"회의 내용을 입력하세요 (빈 줄 2번 입력 시 종료):\")\n",
    "    lines = []\n",
    "    while True:\n",
    "        line = input()\n",
    "        if line.strip() == \"\" and (not lines or lines[-1].strip() == \"\"):\n",
    "            break\n",
    "        lines.append(line)\n",
    "    return \"\\n\".join(lines).strip()\n",
    "\n",
    "\n",
    "if __name__ == \"__main__\":\n",
    "\n",
    "    if not os.environ.get('OPENAI_API_KEY'):\n",
    "        api_key = input(\"OpenAI API 키를 입력하세요: \")\n",
    "        os.environ['OPENAI_API_KEY'] = api_key\n",
    "        client = OpenAI(api_key=api_key)\n",
    "\n",
    "\n",
    "    try:\n",
    "        meeting_transcript = get_user_transcript()\n",
    "        summary = summarize_meeting(meeting_transcript)\n",
    "        print(summary)\n",
    "    except Exception as e:\n",
    "        logging.error(f\"요약 중 오류 발생: {str(e)}\")"
   ]
  },
  {
   "cell_type": "markdown",
   "id": "c561162a",
   "metadata": {},
   "source": [
    "### Task Alignment"
   ]
  },
  {
   "cell_type": "code",
   "execution_count": null,
   "id": "fc1a8eee",
   "metadata": {},
   "outputs": [
    {
     "name": "stdout",
     "output_type": "stream",
     "text": [
      "\n",
      "팀원 성향을 입력하세요. 예시:\n",
      "혜주: 직감형, 창의성 있음, 활동성 중간, 성과 지향적 카리스마형 리더십, 신중한 관계 성향, 실행력 중간\n",
      "...\n",
      "\n",
      "해야 할 일 목록을 입력하세요 (한 줄씩 입력, 종료 시 Enter 두 번):\n"
     ]
    },
    {
     "name": "stderr",
     "output_type": "stream",
     "text": [
      "2025-05-07 17:50:30,984 - INFO - HTTP Request: POST https://api.openai.com/v1/chat/completions \"HTTP/1.1 200 OK\"\n"
     ]
    },
    {
     "name": "stdout",
     "output_type": "stream",
     "text": [
      "\n",
      "업무 자동 분배 결과:\n",
      "\n",
      "1. 일일 호출량 기준 1천 건 이상인 API를 '주요 API'로 분류하고, 여기에 장애 빈도와 지속 시간을 결합해서 등급을 나누는 작업 진행 - 담당자: 윤조 (이유: 분석형으로서 데이터 분석에 강하며, 중간 정도의 실행력을 가지고 있어 이 작업을 체계적으로 진행할 수 있습니다.)\n",
      "\n",
      "2. 보험료 책정 모델 초안 만들기 (호출량, 장애 확률, 지속 시간 3가지를 주요 변수로 넣어서 회귀 분석) - 담당자: 정아 (이유: 직감형이면서 현실 지향형인 정아는 책임감이 높고 실행력이 높아 회귀 분석을 통해 모델을 체계적으로 작성할 수 있습니다.)\n",
      "\n",
      "3. 실시간 API의 예측 오차를 줄이기 위해 구간별로 나눠서 분포 다시 보기 - 담당자: 혜주 (이유: 창의성이 높고 직감형인 혜주는 새로운 접근 방식을 통해 예측 오차를 줄이는 데 필요한 창의적 해결책을 제시할 수 있습니다.)\n",
      "\n",
      "4. 실제 장애 사례를 기반으로 3가지 케이스 만들기 (호출량 급증, 외부 API 장애 전이, 인증 실패 반복) - 담당자: 현서 (이유: 직감형이며 현실 지향적인 현서는 다양한 장애 사례를 현실적으로 분석하고, 신중하게 접근하여 케이스를 만들 수 있습니다.)\n",
      "\n",
      "5. 최근 핀테크 쪽 이슈 기반으로 리스크 요소 추가하기 - 담당자: 윤희 (이유: 현실적인 편이며 부드러운 리더십을 가진 윤희는 헌신적인 관계형으로 핀테크 이슈에 대한 리스크 요소를 신중하게 고려하여 추가할 수 있습니다.)\n"
     ]
    }
   ],
   "source": [
    "def build_task_prompt(task_list, team_traits):\n",
    "    tasks_str = \"\\n\".join(f\"{i+1}. {task.strip()}\" for i, task in enumerate(task_list.splitlines()))\n",
    "    return f\"\"\"\n",
    "당신은 팀원 성향을 고려해 업무를 적절히 배분하는 AI입니다.\n",
    "\n",
    "[팀원 성향]\n",
    "{team_traits}\n",
    "\n",
    "[해야 할 일 목록]\n",
    "{tasks_str}\n",
    "\n",
    "- 각 업무에 대해 적합한 팀원 1명을 배정하고, 그 이유도 간단히 설명하세요.\n",
    "- 설명에 포함되는 역량은 해당 인물의 실제 성향과 일치해야 합니다.\n",
    "- 예: 창의성이 낮은 사람에게 창의성을 이유로 배정하지 마세요.\n",
    "- 표현은 구체적으로 작성하세요. (예: '중간', '높음' 등 성향 수준 반영)\n",
    "- 입력된 해야 할 일이 팀원 수보다 적거나 많으면 각 업무에 적합한 팀원 1명이 배정되도록 더 필요한 업무를 추가하거나(해야할 일이 팀원 수보다 적은 경우) 간단한 2개의 업무를 하나로 합치세요(해야할 일이 팀원 수보다 많은 경우).\n",
    "\n",
    "[출력 예시]\n",
    "1. 업무명 - 담당자: 이름 (이유: 성향과 업무 특성의 연결)\n",
    "\"\"\"\n",
    "\n",
    "def assign_tasks(task_list, team_traits):\n",
    "    prompt = build_task_prompt(task_list, team_traits)\n",
    "    response = client.chat.completions.create(\n",
    "        model=\"gpt-4o-mini\",\n",
    "        messages=[{\"role\": \"user\", \"content\": prompt}],\n",
    "        temperature=0.3,\n",
    "    )\n",
    "    return response.choices[0].message.content.strip()\n",
    "\n",
    "print(\"\\n팀원 성향을 입력하세요. 예시:\")\n",
    "print(\"혜주: 직감형, 창의성 있음, 활동성 중간, 성과 지향적 카리스마형 리더십, 신중한 관계 성향, 실행력 중간\\n...\")\n",
    "\n",
    "team_traits_input = []\n",
    "while True:\n",
    "    line = input(\"> \")\n",
    "    if not line.strip():\n",
    "        break\n",
    "    team_traits_input.append(line)\n",
    "team_traits = \"\\n\".join(team_traits_input)\n",
    "\n",
    "print(\"\\n해야 할 일 목록을 입력하세요 (한 줄씩 입력, 종료 시 Enter 두 번):\")\n",
    "task_list_input = []\n",
    "while True:\n",
    "    line = input(\"> \")\n",
    "    if not line.strip():\n",
    "        break\n",
    "    task_list_input.append(line)\n",
    "task_list = \"\\n\".join(task_list_input)\n",
    "\n",
    "try:\n",
    "    result = assign_tasks(task_list, team_traits)\n",
    "    print(\"\\n업무 자동 분배 결과:\\n\")\n",
    "    print(result)\n",
    "except Exception as e:\n",
    "    logging.error(f\"Task assignment 실패: {str(e)}\")\n"
   ]
  }
 ],
 "metadata": {
  "kernelspec": {
   "display_name": "Python (.venv)",
   "language": "python",
   "name": ".venv"
  },
  "language_info": {
   "codemirror_mode": {
    "name": "ipython",
    "version": 3
   },
   "file_extension": ".py",
   "mimetype": "text/x-python",
   "name": "python",
   "nbconvert_exporter": "python",
   "pygments_lexer": "ipython3",
   "version": "3.10.11"
  }
 },
 "nbformat": 4,
 "nbformat_minor": 5
}
