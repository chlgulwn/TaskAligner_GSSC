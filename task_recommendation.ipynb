{
 "cells": [
  {
   "cell_type": "code",
   "execution_count": 6,
   "id": "351ca836",
   "metadata": {},
   "outputs": [],
   "source": [
    "import os\n",
    "import logging\n",
    "from pathlib import Path\n",
    "from typing import Optional\n",
    "from openai import OpenAI\n",
    "from dotenv import load_dotenv"
   ]
  },
  {
   "cell_type": "markdown",
   "id": "57096b52",
   "metadata": {},
   "source": [
    "### Meeting Summarization"
   ]
  },
  {
   "cell_type": "code",
   "execution_count": 7,
   "id": "9bab5d0e",
   "metadata": {},
   "outputs": [
    {
     "name": "stdout",
     "output_type": "stream",
     "text": [
      "Please enter the meeting transcript (press Enter twice to finish):\n"
     ]
    },
    {
     "name": "stderr",
     "output_type": "stream",
     "text": [
      "2025-05-12 17:07:16,617 - INFO - HTTP Request: POST https://api.openai.com/v1/chat/completions \"HTTP/1.1 200 OK\"\n"
     ]
    },
    {
     "name": "stdout",
     "output_type": "stream",
     "text": [
      "Next meeting date and time: Next Tuesday at 10 AM  \n",
      "Topic: API Risk Insurance Model Design  \n",
      "Task List:  \n",
      "1. Finalize data collection and establish guidelines for API classification.  \n",
      "2. Refine the insurance premium pricing model based on traffic segments.  \n",
      "3. Develop risk scenarios based on recent fintech issues.  \n",
      "\n",
      "Team members' opinions:  \n",
      "- Data collection is mostly complete, but there are issues with SLA violations and missing data in smaller APIs.  \n",
      "- The classification of APIs into 'major' and 'minor' based on call volume and failure rates is a good approach, though more statistical validation is needed.  \n",
      "- The insurance premium model needs adjustments, particularly for real-time APIs where prediction errors are larger.  \n",
      "- Risk scenarios are being developed, but there is a need to incorporate more recent fintech-related issues.  \n",
      "\n",
      "Mentor feedback:  \n",
      "- Previous scenarios were deemed too general; the team is encouraged to include specific recent incidents, such as authentication API failures leading to payment errors.\n"
     ]
    }
   ],
   "source": [
    "import os\n",
    "import logging\n",
    "from pathlib import Path\n",
    "from typing import Optional\n",
    "from openai import OpenAI\n",
    "\n",
    "\n",
    "logging.basicConfig(\n",
    "    level=logging.INFO,\n",
    "    format='%(asctime)s - %(levelname)s - %(message)s'\n",
    ")\n",
    "\n",
    "\n",
    "client = OpenAI(api_key=os.environ.get('OPENAI_API_KEY', ''))\n",
    "\n",
    "def build_prompt(meeting_transcript: str) -> str:\n",
    "    try:\n",
    "        template = {\n",
    "            'system_role': \"You are an AI assistant that summarizes the entire meeting by category.\",\n",
    "            'output_format': [\n",
    "                \"Next meeting date and time: OOO\",\n",
    "                \"Topic: OOO\",\n",
    "                \"Task List: OOO\",\n",
    "                \"Team members' opinions: OOO\",\n",
    "                \"Mentor feedback: OOO\"\n",
    "            ]\n",
    "        }\n",
    "\n",
    "        prompt = f\"\"\" {template['system_role']}\n",
    "Please summarize the meeting content below using the following format and please write them down in English:\n",
    "\n",
    "[Output Example]\n",
    "{chr(10).join(template['output_format'])}\n",
    "\n",
    "[Full Meeting Transcript]\n",
    "{meeting_transcript}\n",
    "\n",
    "[Summary Result] \"\"\"\n",
    "        return prompt\n",
    "\n",
    "    except Exception as e:\n",
    "        logging.error(f\"Failed to build prompt: {str(e)}\")\n",
    "        raise\n",
    "\n",
    "def summarize_meeting(transcript: str):\n",
    "    prompt = build_prompt(transcript)\n",
    "\n",
    "\n",
    "    response = client.chat.completions.create(\n",
    "        model=\"gpt-4o-mini\",\n",
    "        messages=[\n",
    "            {\"role\": \"system\", \"content\": \"You are an AI assistant that summarizes the entire meeting by category.\"},\n",
    "            {\"role\": \"user\", \"content\": prompt}\n",
    "        ],\n",
    "        temperature=0.3,\n",
    "    )\n",
    "\n",
    "\n",
    "    return response.choices[0].message.content.strip()\n",
    "\n",
    "\n",
    "def get_user_transcript():\n",
    "    print(\"Please enter the meeting transcript (press Enter twice to finish):\")\n",
    "    lines = []\n",
    "    while True:\n",
    "        line = input()\n",
    "        if line.strip() == \"\" and (not lines or lines[-1].strip() == \"\"):\n",
    "            break\n",
    "        lines.append(line)\n",
    "    return \"\\n\".join(lines).strip()\n",
    "\n",
    "\n",
    "if __name__ == \"__main__\":\n",
    "\n",
    "    if not os.environ.get('OPENAI_API_KEY'):\n",
    "        api_key = input(\"Enter your OpenAI API key: \")\n",
    "        os.environ['OPENAI_API_KEY'] = api_key\n",
    "        client = OpenAI(api_key=api_key)\n",
    "\n",
    "\n",
    "    try:\n",
    "        meeting_transcript = get_user_transcript()\n",
    "        summary = summarize_meeting(meeting_transcript)\n",
    "        print(summary)\n",
    "    except Exception as e:\n",
    "        logging.error(f\"An error occurred while summarizing the meeting: {str(e)}\")"
   ]
  },
  {
   "cell_type": "markdown",
   "id": "c561162a",
   "metadata": {},
   "source": [
    "### Task Alignment"
   ]
  },
  {
   "cell_type": "code",
   "execution_count": 9,
   "id": "fc1a8eee",
   "metadata": {},
   "outputs": [
    {
     "name": "stdout",
     "output_type": "stream",
     "text": [
      "\n",
      "Enter team member traits. Example:\n",
      "00: Intuitive type, creative, moderate activity level, performance-driven with charismatic leadership, cautious in relationships, moderate execution\n",
      "...\n",
      "\n",
      "Enter the task list (one task per line, press Enter twice to finish):\n"
     ]
    },
    {
     "name": "stderr",
     "output_type": "stream",
     "text": [
      "2025-05-12 17:08:24,412 - INFO - HTTP Request: POST https://api.openai.com/v1/chat/completions \"HTTP/1.1 200 OK\"\n"
     ]
    },
    {
     "name": "stdout",
     "output_type": "stream",
     "text": [
      "\n",
      "Task assignment result:\n",
      "\n",
      "1. Finalize data collection and establish guidelines for API classification - Assigned to: 윤조 (Justification: 윤조 has strong analytical skills and moderate execution ability, making them well-suited for organizing data and creating structured guidelines.)\n",
      "\n",
      "2. Refine the insurance premium pricing model based on traffic segments - Assigned to: 혜주 (Justification: 혜주's creativity and performance-oriented charismatic leadership will help in innovating and improving the pricing model effectively.)\n",
      "\n",
      "3. Develop risk scenarios based on recent fintech issues - Assigned to: 정아 (Justification: 정아's high sense of responsibility and strong execution ability, combined with a realistic approach, make them ideal for developing thorough and practical risk scenarios.)\n",
      "\n",
      "4. Additional Task: Conduct a team review of the finalized API guidelines and pricing model - Assigned to: 현서 (Justification: 현서's careful relationship-oriented approach and moderate execution ability will facilitate a thoughtful review process, ensuring all aspects are considered.)\n",
      "\n",
      "5. Additional Task: Create a communication plan for sharing the developed risk scenarios with stakeholders - Assigned to: 윤희 (Justification: 윤희's soft leadership style and commitment to relationships will help in effectively communicating the risk scenarios to stakeholders.)\n"
     ]
    }
   ],
   "source": [
    "def build_task_prompt(task_list, team_traits):\n",
    "    tasks_str = \"\\n\".join(f\"{i+1}. {task.strip()}\" for i, task in enumerate(task_list.splitlines()))\n",
    "    return f\"\"\"\n",
    "You are an AI assistant tasked with assigning responsibilities based on each team member’s traits.\n",
    "\n",
    "[Team Member Traits]\n",
    "{team_traits}\n",
    "\n",
    "[Task List]\n",
    "{tasks_str}\n",
    "\n",
    "- Give the entire task assignment result in english.\n",
    "- Do not use gendered pronouns such as \"he\" or \"she.\" Use the person's name instead in the justification.\n",
    "- Assign exactly one team member to each task, along with a brief justification.\n",
    "- Your justification must reflect the individual’s actual traits.\n",
    "- Do not assign tasks based on traits the person does not have (e.g., do not cite creativity for someone who is not described as creative).\n",
    "- Use proper language to describe trait levels (e.g., “moderate,” “high,” etc.).\n",
    "- If the number of tasks is fewer than the number of team members, create additional tasks as needed. \n",
    "  If there are more tasks than members, merge simple or similar tasks so that each task is assigned to one person.\n",
    "\n",
    "\n",
    "[Output Example]\n",
    "1. Task - Assigned to: Name (Justification: aligned with specific traits)\n",
    "\"\"\"\n",
    "\n",
    "def assign_tasks(task_list, team_traits):\n",
    "    prompt = build_task_prompt(task_list, team_traits)\n",
    "    response = client.chat.completions.create(\n",
    "        model=\"gpt-4o-mini\",\n",
    "        messages=[{\"role\": \"user\", \"content\": prompt}],\n",
    "        temperature=0.3,\n",
    "    )\n",
    "    return response.choices[0].message.content.strip()\n",
    "\n",
    "print(\"\\nEnter team member traits. Example:\")\n",
    "print(\"00: Intuitive type, creative, moderate activity level, performance-driven with charismatic leadership, cautious in relationships, moderate execution\\n...\")\n",
    "\n",
    "team_traits_input = []\n",
    "while True:\n",
    "    line = input(\"> \")\n",
    "    if not line.strip():\n",
    "        break\n",
    "    team_traits_input.append(line)\n",
    "team_traits = \"\\n\".join(team_traits_input)\n",
    "\n",
    "print(\"\\nEnter the task list (one task per line, press Enter twice to finish):\")\n",
    "task_list_input = []\n",
    "while True:\n",
    "    line = input(\"> \")\n",
    "    if not line.strip():\n",
    "        break\n",
    "    task_list_input.append(line)\n",
    "task_list = \"\\n\".join(task_list_input)\n",
    "\n",
    "try:\n",
    "    result = assign_tasks(task_list, team_traits)\n",
    "    print(\"\\nTask assignment result:\\n\")\n",
    "    print(result)\n",
    "except Exception as e:\n",
    "    logging.error(f\"Task assignment failed: {str(e)}\")\n"
   ]
  }
 ],
 "metadata": {
  "kernelspec": {
   "display_name": "Python (.venv)",
   "language": "python",
   "name": ".venv"
  },
  "language_info": {
   "codemirror_mode": {
    "name": "ipython",
    "version": 3
   },
   "file_extension": ".py",
   "mimetype": "text/x-python",
   "name": "python",
   "nbconvert_exporter": "python",
   "pygments_lexer": "ipython3",
   "version": "3.10.11"
  }
 },
 "nbformat": 4,
 "nbformat_minor": 5
}
